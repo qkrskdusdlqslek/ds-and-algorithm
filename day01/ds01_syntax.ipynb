{
 "cells": [
  {
   "cell_type": "code",
   "execution_count": 1,
   "metadata": {},
   "outputs": [],
   "source": [
    "# file : ds01_syntax\n",
    "# desc : 파이썬 기본문법 복습"
   ]
  },
  {
   "cell_type": "markdown",
   "metadata": {},
   "source": [
    "## 자료구조와 알고리즘\n",
    "- 파이썬 기본문법 복습\n",
    "\n",
    "### 1. 변수, 콘솔출력\n",
    "print()"
   ]
  },
  {
   "cell_type": "code",
   "execution_count": 5,
   "metadata": {},
   "outputs": [],
   "source": [
    "# 코딩 네이밍룰\n",
    "# 변수 앞 i 적으면 정수형, f를 적으면 실수형, s 적으면 문자열형, is를 쓰면 Boolean형\n",
    "isBasic = True\n",
    "iMonth = 12\n",
    "sMonth = 'Decenber'\n",
    "fTaxRate = 10.2\n",
    "\n",
    "isBasic, iMonth, sMonth, FTaxRate = False, 1, 'January', 8.8"
   ]
  },
  {
   "cell_type": "code",
   "execution_count": 9,
   "metadata": {},
   "outputs": [
    {
     "name": "stdout",
     "output_type": "stream",
     "text": [
      "<class 'bool'>\n",
      "<class 'int'>\n",
      "<class 'str'>\n",
      "<class 'float'>\n"
     ]
    }
   ],
   "source": [
    "# 각 변수별 타입확인, 주피터 노트북에서는 변수나 함수만 써서 화면출력 가능\n",
    "# print()\n",
    "print(type(isBasic))\n",
    "print(type(iMonth))\n",
    "print(type(sMonth))\n",
    "print(type(fTaxRate))"
   ]
  },
  {
   "cell_type": "code",
   "execution_count": 13,
   "metadata": {},
   "outputs": [
    {
     "name": "stdout",
     "output_type": "stream",
     "text": [
      "100\n",
      "100\n"
     ]
    }
   ],
   "source": [
    "# 구식방법\n",
    "# 100 출력 방법 : 100, '100', '%d' % 100\n",
    "# '%d' 정수의 출력할건데 % 뒤에 있는 값을 정수형 문자열로 출력하라\n",
    "print(100)\n",
    "print('%d' % 100)"
   ]
  },
  {
   "cell_type": "code",
   "execution_count": 18,
   "metadata": {},
   "outputs": [
    {
     "name": "stdout",
     "output_type": "stream",
     "text": [
      "100 + 100\n",
      "200\n"
     ]
    }
   ],
   "source": [
    "print('100 + 100')\n",
    "print(100 + 100)"
   ]
  },
  {
   "cell_type": "code",
   "execution_count": 21,
   "metadata": {},
   "outputs": [
    {
     "name": "stdout",
     "output_type": "stream",
     "text": [
      "200\n"
     ]
    }
   ],
   "source": [
    "print('%d' % (100 + 100))"
   ]
  },
  {
   "cell_type": "code",
   "execution_count": 25,
   "metadata": {},
   "outputs": [
    {
     "ename": "TypeError",
     "evalue": "not enough arguments for format string",
     "output_type": "error",
     "traceback": [
      "\u001b[1;31m---------------------------------------------------------------------------\u001b[0m",
      "\u001b[1;31mTypeError\u001b[0m                                 Traceback (most recent call last)",
      "Cell \u001b[1;32mIn[25], line 2\u001b[0m\n\u001b[0;32m      1\u001b[0m \u001b[38;5;66;03m# 구식방법, 잘못된 예 ->%d의 개수와 % 뒤에 값 개수가 일치해야 함\u001b[39;00m\n\u001b[1;32m----> 2\u001b[0m \u001b[38;5;28mprint\u001b[39m(\u001b[38;5;124;43m'\u001b[39;49m\u001b[38;5;132;43;01m%d\u001b[39;49;00m\u001b[38;5;124;43m / \u001b[39;49m\u001b[38;5;132;43;01m%d\u001b[39;49;00m\u001b[38;5;124;43m / \u001b[39;49m\u001b[38;5;132;43;01m%d\u001b[39;49;00m\u001b[38;5;124;43m'\u001b[39;49m\u001b[43m \u001b[49m\u001b[38;5;241;43m%\u001b[39;49m\u001b[43m \u001b[49m\u001b[43m(\u001b[49m\u001b[38;5;241;43m100\u001b[39;49m\u001b[43m,\u001b[49m\u001b[43m \u001b[49m\u001b[38;5;241;43m200\u001b[39;49m\u001b[43m)\u001b[49m)\n",
      "\u001b[1;31mTypeError\u001b[0m: not enough arguments for format string"
     ]
    }
   ],
   "source": [
    "# 구식방법, 잘못된 예 ->%d의 개수와 % 뒤에 값 개수가 일치해야 함\n",
    "print('%d / %d / %d' % (100, 200))"
   ]
  },
  {
   "cell_type": "code",
   "execution_count": 31,
   "metadata": {},
   "outputs": [
    {
     "name": "stdout",
     "output_type": "stream",
     "text": [
      "01 / January / 10.20 / H / e1 / 21\n"
     ]
    }
   ],
   "source": [
    "# %문자열 포맷에는 2진수가 없음 (C언어부터 넘어온 것)\n",
    "print('%02d / %s / %.2f / %c / %x / %o' % (iMonth, sMonth, fTaxRate, 'H', 225, 17))"
   ]
  },
  {
   "cell_type": "code",
   "execution_count": 39,
   "metadata": {},
   "outputs": [
    {
     "name": "stdout",
     "output_type": "stream",
     "text": [
      "01 / January / 10.2 / h / 255 / 71 / 10000\n"
     ]
    }
   ],
   "source": [
    "## 신식방법 포맷스트링 (90년대 경 발전)\n",
    "print('{0:02d} / {1} / {2} / {3} / {4} / {5:o} / {6:b}'.format(iMonth, sMonth, fTaxRate, 'h', 255, 57, 16))"
   ]
  },
  {
   "cell_type": "code",
   "execution_count": 42,
   "metadata": {},
   "outputs": [
    {
     "name": "stdout",
     "output_type": "stream",
     "text": [
      "01 / January / 10.20 / H / ff / 71 / 1111111111\n"
     ]
    }
   ],
   "source": [
    "## 최신식방법 포맷스트링 (python 3.6이후 개발(2015년))\n",
    "print(f'{iMonth:02d} / {sMonth} / {fTaxRate:.2f} / {\"H\"} / {255:x} / {57:o} / {1023:b}')"
   ]
  },
  {
   "cell_type": "markdown",
   "metadata": {},
   "source": [
    "### 2. 입력\n",
    "- input()"
   ]
  },
  {
   "cell_type": "code",
   "execution_count": 47,
   "metadata": {},
   "outputs": [
    {
     "name": "stdout",
     "output_type": "stream",
     "text": [
      "1223\n"
     ]
    }
   ],
   "source": [
    "# 입력은 무조건 문자열(str) x = 12, y = 23 \n",
    "x = input()\n",
    "y = input()\n",
    "print(x + y) # 문자열 결합이 됨"
   ]
  },
  {
   "cell_type": "code",
   "execution_count": 45,
   "metadata": {},
   "outputs": [
    {
     "name": "stdout",
     "output_type": "stream",
     "text": [
      "35\n"
     ]
    }
   ],
   "source": [
    "# 입력을 정수로 변경해줘야 함 x = 12, y = 23\n",
    "x = int(input())\n",
    "y = int(input())\n",
    "print(x + y)"
   ]
  },
  {
   "cell_type": "code",
   "execution_count": 50,
   "metadata": {},
   "outputs": [
    {
     "name": "stdout",
     "output_type": "stream",
     "text": [
      "35.0\n"
     ]
    }
   ],
   "source": [
    "# 실수는 float()으로 변환 정수 -> 실수 자동변환/ 실수 -> 정수 수동변환 해야 함\n",
    "# x = 12, y = 23\n",
    "x = float(input())\n",
    "y = float(input())\n",
    "print(x + y)"
   ]
  },
  {
   "cell_type": "code",
   "execution_count": null,
   "metadata": {},
   "outputs": [],
   "source": [
    "## input()만 쓰면 뭘 할지 모르기 때문에 내용을 옵션으로 작성\n",
    "x + float(input('첫번째 실수 입력(예 3.14) >'))\n",
    "y + float(input('두번째 실수 입력(예 3.14) >'))\n",
    "print(f'{x:.2f} * {y:.2f} = {x * y:.4f}')\n",
    "print(f'{x} * {y} = {x * y}')"
   ]
  },
  {
   "cell_type": "code",
   "execution_count": null,
   "metadata": {},
   "outputs": [],
   "source": [
    "## 입력값이 두개 이상이면 map과 split를 활용할 것\n",
    "x, y = map(float, input('두 실수를 입력(구분자 스페이스) > ').split())\n",
    "print(f'{x:.2f} * {y:.2f} = {x * y:.4f}')"
   ]
  },
  {
   "cell_type": "markdown",
   "metadata": {},
   "source": [
    "### 3. 연산자\n",
    "- 사칙연산, 승수, 나머지의 경우 연산자 3개 "
   ]
  },
  {
   "cell_type": "code",
   "execution_count": 58,
   "metadata": {},
   "outputs": [
    {
     "name": "stdout",
     "output_type": "stream",
     "text": [
      "8 2 15 1.6666666666666667 1 2 125\n"
     ]
    }
   ],
   "source": [
    "## 산술연산\n",
    "a = 5; b= 3 # 여러 줄 로직을 한줄에 사용시 세미콜론(;)으로 구분\n",
    "a, b = 5, 3\n",
    "print(a + b, a - b, a * b, a / b, a // b, a % b, a ** b) "
   ]
  },
  {
   "cell_type": "code",
   "execution_count": 66,
   "metadata": {},
   "outputs": [
    {
     "name": "stdout",
     "output_type": "stream",
     "text": [
      "8\n",
      "5\n",
      "15\n",
      "5.0\n",
      "1\n",
      "2\n",
      "1024\n"
     ]
    }
   ],
   "source": [
    "## 대입연산자\n",
    "a = 5\n",
    "a += 3 # a = a + 3\n",
    "print(a) # 8\n",
    "a -= 3\n",
    "print(a) # 5\n",
    "a *= 3\n",
    "print(a) # 15\n",
    "a /= 3\n",
    "print(a) # 5.0\n",
    "a = int(a) # 5.0 -> 5\n",
    "a //= 3\n",
    "print(a) # 1\n",
    "a = 5\n",
    "a %= 3\n",
    "print(a) # 2\n",
    "a **= 10\n",
    "print(a) # 1024 (2에 10승)"
   ]
  },
  {
   "cell_type": "code",
   "execution_count": 72,
   "metadata": {},
   "outputs": [
    {
     "name": "stdout",
     "output_type": "stream",
     "text": [
      "True False False True True False\n",
      "True\n",
      "True\n"
     ]
    }
   ],
   "source": [
    "## 관계연산자\n",
    "a, b, c, d = 3, 5, 9, 5\n",
    "print(b == d, b != d, a > b, d < c, b >= d, c <= a)\n",
    "print(a < b and c > d) # 양쪽 다 참이면 참, 한쪽이라도 거짓이면 거짓\n",
    "print(a > b or c > d) # 한쪽이라도 참이면 참, 둘다 거짓이면 거짓"
   ]
  },
  {
   "cell_type": "markdown",
   "metadata": {},
   "source": [
    "### 4. 형변환(Type casting)"
   ]
  },
  {
   "cell_type": "code",
   "execution_count": 76,
   "metadata": {},
   "outputs": [
    {
     "data": {
      "text/plain": [
       "'10'"
      ]
     },
     "execution_count": 76,
     "metadata": {},
     "output_type": "execute_result"
    }
   ],
   "source": [
    "10 # 10\n",
    "str(10) # 정수 10을 문자열로 변환 # '10'"
   ]
  },
  {
   "cell_type": "code",
   "execution_count": 77,
   "metadata": {},
   "outputs": [
    {
     "data": {
      "text/plain": [
       "'3.141592'"
      ]
     },
     "execution_count": 77,
     "metadata": {},
     "output_type": "execute_result"
    }
   ],
   "source": [
    "str(3.141592) # 실수가 문자열로 변환"
   ]
  },
  {
   "cell_type": "code",
   "execution_count": 79,
   "metadata": {},
   "outputs": [
    {
     "data": {
      "text/plain": [
       "10"
      ]
     },
     "execution_count": 79,
     "metadata": {},
     "output_type": "execute_result"
    }
   ],
   "source": [
    "int('10') # 문자열을 정수로.. 문자열로 들어있지만 계산을 하려면 정수로 변환"
   ]
  },
  {
   "cell_type": "code",
   "execution_count": 80,
   "metadata": {},
   "outputs": [
    {
     "data": {
      "text/plain": [
       "3.14"
      ]
     },
     "execution_count": 80,
     "metadata": {},
     "output_type": "execute_result"
    }
   ],
   "source": [
    "float('3.14') # 실수값 문자열은 float으로 변환"
   ]
  },
  {
   "cell_type": "code",
   "execution_count": 83,
   "metadata": {},
   "outputs": [
    {
     "data": {
      "text/plain": [
       "True"
      ]
     },
     "execution_count": 83,
     "metadata": {},
     "output_type": "execute_result"
    }
   ],
   "source": [
    "bool(1) # 1 이상은 True, 0은 False.. 하지만 1만 True로 사용할 것"
   ]
  },
  {
   "cell_type": "code",
   "execution_count": 85,
   "metadata": {},
   "outputs": [
    {
     "ename": "ValueError",
     "evalue": "invalid literal for int() with base 10: '3.14'",
     "output_type": "error",
     "traceback": [
      "\u001b[1;31m---------------------------------------------------------------------------\u001b[0m",
      "\u001b[1;31mValueError\u001b[0m                                Traceback (most recent call last)",
      "Cell \u001b[1;32mIn[85], line 1\u001b[0m\n\u001b[1;32m----> 1\u001b[0m \u001b[38;5;28;43mint\u001b[39;49m\u001b[43m(\u001b[49m\u001b[38;5;124;43m'\u001b[39;49m\u001b[38;5;124;43m3.14\u001b[39;49m\u001b[38;5;124;43m'\u001b[39;49m\u001b[43m)\u001b[49m \u001b[38;5;66;03m# 실수 문자열을 정수로 변환 X\u001b[39;00m\n",
      "\u001b[1;31mValueError\u001b[0m: invalid literal for int() with base 10: '3.14'"
     ]
    }
   ],
   "source": [
    "int('3.14') # 실수 문자열을 정수로 변환 X"
   ]
  },
  {
   "cell_type": "code",
   "execution_count": 86,
   "metadata": {},
   "outputs": [
    {
     "data": {
      "text/plain": [
       "3"
      ]
     },
     "execution_count": 86,
     "metadata": {},
     "output_type": "execute_result"
    }
   ],
   "source": [
    "int(3.14) # 실수형을 정수형으로 변환 가능. 소수점 이하 생략"
   ]
  },
  {
   "cell_type": "code",
   "execution_count": 87,
   "metadata": {},
   "outputs": [
    {
     "data": {
      "text/plain": [
       "3.0"
      ]
     },
     "execution_count": 87,
     "metadata": {},
     "output_type": "execute_result"
    }
   ],
   "source": [
    "float('3')"
   ]
  },
  {
   "cell_type": "code",
   "execution_count": 88,
   "metadata": {},
   "outputs": [
    {
     "data": {
      "text/plain": [
       "3.0"
      ]
     },
     "execution_count": 88,
     "metadata": {},
     "output_type": "execute_result"
    }
   ],
   "source": [
    "float(3)"
   ]
  },
  {
   "cell_type": "markdown",
   "metadata": {},
   "source": [
    "### 5. 흐름제어\n",
    "- 조건문"
   ]
  },
  {
   "cell_type": "code",
   "execution_count": 89,
   "metadata": {},
   "outputs": [
    {
     "name": "stdout",
     "output_type": "stream",
     "text": [
      "이깁니다.\n"
     ]
    }
   ],
   "source": [
    "# 단순 if문\n",
    "army = 300\n",
    "\n",
    "if army < 300:\n",
    "    print('싸우면 집니다.')\n",
    "else:\n",
    "    print('이깁니다.')"
   ]
  },
  {
   "cell_type": "code",
   "execution_count": 90,
   "metadata": {},
   "outputs": [
    {
     "name": "stdout",
     "output_type": "stream",
     "text": [
      "간당간당합니다.\n"
     ]
    }
   ],
   "source": [
    "# elif문 \n",
    "if army < 300:\n",
    "    print('싸우면 집니다.')  # if문의 block -> if army < 300이라는 조건의 안쪽으로 들어가는 것을 뜻함\n",
    "    print('도망갈래요')\n",
    "elif army == 300:\n",
    "    print('간당간당합니다.') # block\n",
    "    print('한번 싸워보죠') \n",
    "else:\n",
    "    print('이깁니다.') # block\n",
    "    print('들우와~')\n",
    "   \n",
    "# if문도 중첩if문을 여러번 쓰면 경우의수가 기하급수적으로 증가(경우를 모두 처리해줘야)"
   ]
  },
  {
   "cell_type": "markdown",
   "metadata": {},
   "source": [
    "- for 문"
   ]
  },
  {
   "cell_type": "code",
   "execution_count": 94,
   "metadata": {},
   "outputs": [
    {
     "name": "stdout",
     "output_type": "stream",
     "text": [
      "0, 1, 2, 3, 4, 5, 6, 7, 8, 9, "
     ]
    }
   ],
   "source": [
    "## for 문\n",
    "for i in range(10):\n",
    "    print(i, end=', ')"
   ]
  },
  {
   "cell_type": "code",
   "execution_count": 95,
   "metadata": {},
   "outputs": [
    {
     "name": "stdout",
     "output_type": "stream",
     "text": [
      "1, 2, 3, 4, 5, 6, 7, 8, 9, 10, "
     ]
    }
   ],
   "source": [
    "for i in range(1, 10+1):\n",
    "    print(i, end=', ')"
   ]
  },
  {
   "cell_type": "code",
   "execution_count": 96,
   "metadata": {},
   "outputs": [
    {
     "name": "stdout",
     "output_type": "stream",
     "text": [
      "1, 3, 5, 7, 9, "
     ]
    }
   ],
   "source": [
    "for i in range(1, 10+1, 2):\n",
    "    print(i, end=', ')"
   ]
  },
  {
   "cell_type": "code",
   "execution_count": 99,
   "metadata": {},
   "outputs": [
    {
     "name": "stdout",
     "output_type": "stream",
     "text": [
      "1, 3, 5, 7, 9, "
     ]
    }
   ],
   "source": [
    "for i in [1,3,5,7,9]:\n",
    "    print(i, end=', ')"
   ]
  },
  {
   "cell_type": "code",
   "execution_count": 97,
   "metadata": {},
   "outputs": [
    {
     "name": "stdout",
     "output_type": "stream",
     "text": [
      "0, 1, 2, 3, 4, 5, 6, 7, 8, 9, "
     ]
    }
   ],
   "source": [
    "for i in [0,1,2,3,4,5,6,7,8,9]:\n",
    "    print(i, end=', ')"
   ]
  },
  {
   "cell_type": "code",
   "execution_count": 98,
   "metadata": {},
   "outputs": [
    {
     "name": "stdout",
     "output_type": "stream",
     "text": [
      "0, 1, 2, 3, 4, 5, 6, 7, 8, 9, "
     ]
    }
   ],
   "source": [
    "myList = [0,1,2,3,4,5,6,7,8,9]\n",
    "for i in myList:\n",
    "    print(i, end=', ')"
   ]
  },
  {
   "cell_type": "markdown",
   "metadata": {},
   "source": [
    "- while 문"
   ]
  },
  {
   "cell_type": "code",
   "execution_count": 101,
   "metadata": {},
   "outputs": [
    {
     "name": "stdout",
     "output_type": "stream",
     "text": [
      "ㅎ"
     ]
    }
   ],
   "source": [
    "while True: # 무한루프\n",
    "    print('ㅎ', end='')\n",
    "    break"
   ]
  },
  {
   "cell_type": "markdown",
   "metadata": {},
   "source": [
    "- continue : 반복문에서 조건이 맞으면 로직을 실행하지 않고 다음 반복으로 계속(continue) 반복하는 것 \n",
    "- break : 반복문에서 조건이 맞으면 반복문 블록을 빠져나가는 것"
   ]
  },
  {
   "cell_type": "code",
   "execution_count": 103,
   "metadata": {},
   "outputs": [
    {
     "name": "stdout",
     "output_type": "stream",
     "text": [
      "for문 1번 실행\n",
      "for문 2번 실행\n",
      "for문 3번 실행\n",
      "for문 4번 실행\n",
      "for문 5번 실행\n",
      "for문 6번 실행\n",
      "for문 7번 실행\n",
      "for문 8번 실행\n",
      "for문 9번 실행\n",
      "for문 10번 실행\n"
     ]
    }
   ],
   "source": [
    "for i in range(1, 100+1):\n",
    "    print(f'for문 {i}번 실행')\n",
    "    if i == 10: break"
   ]
  },
  {
   "cell_type": "code",
   "execution_count": 109,
   "metadata": {},
   "outputs": [
    {
     "name": "stdout",
     "output_type": "stream",
     "text": [
      "for문 1번 실행\n",
      "for문 7번 실행\n",
      "for문 11번 실행\n",
      "for문 13번 실행\n",
      "for문 17번 실행\n",
      "for문 19번 실행\n",
      "for문 23번 실행\n",
      "for문 29번 실행\n",
      "for문 31번 실행\n",
      "for문 37번 실행\n",
      "for문 41번 실행\n",
      "for문 43번 실행\n",
      "for문 47번 실행\n",
      "for문 49번 실행\n",
      "for문 53번 실행\n",
      "for문 59번 실행\n",
      "for문 61번 실행\n",
      "for문 67번 실행\n",
      "for문 71번 실행\n",
      "for문 73번 실행\n",
      "for문 77번 실행\n",
      "for문 79번 실행\n",
      "for문 83번 실행\n",
      "for문 89번 실행\n",
      "for문 91번 실행\n",
      "for문 97번 실행\n",
      "26\n"
     ]
    }
   ],
   "source": [
    "count = 0\n",
    "for i in range(1, 100+1):\n",
    "    if (i % 10 == 0) or (i % 2 == 0) or (i % 3 == 0) or (i % 5 == 0): continue\n",
    "    print(f'for문 {i}번 실행')\n",
    "    count += 1\n",
    "\n",
    "print(count) # 0(logN)"
   ]
  },
  {
   "cell_type": "markdown",
   "metadata": {},
   "source": [
    "### 6. 함수\n",
    "- 매개변수를 받아서 동일한 로직을 처리하는 영역"
   ]
  },
  {
   "cell_type": "code",
   "execution_count": 110,
   "metadata": {},
   "outputs": [],
   "source": [
    "def plus(v1, v2):\n",
    "    result = v1 + v2\n",
    "    return result"
   ]
  },
  {
   "cell_type": "code",
   "execution_count": 112,
   "metadata": {},
   "outputs": [
    {
     "name": "stdout",
     "output_type": "stream",
     "text": [
      "200과 100의 합은 300\n"
     ]
    }
   ],
   "source": [
    "hap = 0\n",
    "\n",
    "hap = plus(200, 100) # hap = 300\n",
    "print(f'200과 100의 합은 {hap}')"
   ]
  },
  {
   "cell_type": "markdown",
   "metadata": {},
   "source": [
    "#### 6-1, 지역변수/전역변수\n",
    "Local variable / Global variable"
   ]
  },
  {
   "cell_type": "code",
   "execution_count": 116,
   "metadata": {},
   "outputs": [
    {
     "name": "stdout",
     "output_type": "stream",
     "text": [
      "500\n",
      "5.0\n",
      "90\n"
     ]
    },
    {
     "ename": "NameError",
     "evalue": "name 'lcl_val' is not defined",
     "output_type": "error",
     "traceback": [
      "\u001b[1;31m---------------------------------------------------------------------------\u001b[0m",
      "\u001b[1;31mNameError\u001b[0m                                 Traceback (most recent call last)",
      "Cell \u001b[1;32mIn[116], line 13\u001b[0m\n\u001b[0;32m     10\u001b[0m     \u001b[38;5;28mprint\u001b[39m(lcl_val \u001b[38;5;241m/\u001b[39m \u001b[38;5;241m3\u001b[39m) \u001b[38;5;66;03m# 3.333 예상 but name  'lcl_val' is not defined\u001b[39;00m\n\u001b[0;32m     12\u001b[0m func1()\n\u001b[1;32m---> 13\u001b[0m \u001b[43mfunc2\u001b[49m\u001b[43m(\u001b[49m\u001b[43m)\u001b[49m\n",
      "Cell \u001b[1;32mIn[116], line 10\u001b[0m, in \u001b[0;36mfunc2\u001b[1;34m()\u001b[0m\n\u001b[0;32m      8\u001b[0m \u001b[38;5;28;01mdef\u001b[39;00m \u001b[38;5;21mfunc2\u001b[39m():\n\u001b[0;32m      9\u001b[0m     \u001b[38;5;28mprint\u001b[39m(gbl_val \u001b[38;5;241m-\u001b[39m \u001b[38;5;241m10\u001b[39m)\n\u001b[1;32m---> 10\u001b[0m     \u001b[38;5;28mprint\u001b[39m(\u001b[43mlcl_val\u001b[49m \u001b[38;5;241m/\u001b[39m \u001b[38;5;241m3\u001b[39m)\n",
      "\u001b[1;31mNameError\u001b[0m: name 'lcl_val' is not defined"
     ]
    }
   ],
   "source": [
    "gbl_val = 100 # 전역변수\n",
    "\n",
    "def func1():\n",
    "    lcl_val = 10 # 지역변수\n",
    "    print(gbl_val * 5)\n",
    "    print(lcl_val / 2)\n",
    "\n",
    "def func2():\n",
    "    print(gbl_val - 10)\n",
    "    print(lcl_val / 3) # 3.333 예상 but name  'lcl_val' is not defined\n",
    "\n",
    "func1()\n",
    "func2()"
   ]
  },
  {
   "cell_type": "code",
   "execution_count": 118,
   "metadata": {},
   "outputs": [
    {
     "name": "stdout",
     "output_type": "stream",
     "text": [
      "30\n",
      "30\n"
     ]
    }
   ],
   "source": [
    "aa = 10 # global\n",
    "\n",
    "def func3():\n",
    "    # aa = 20 # local\n",
    "    global aa\n",
    "    aa = 30\n",
    "    print(aa)\n",
    "\n",
    "def func4():\n",
    "    print(aa)\n",
    "\n",
    "func3()\n",
    "func4()\n",
    "\n",
    "## local일 경우 20, 10\n",
    "## global로 선언하면 30, 30"
   ]
  },
  {
   "cell_type": "code",
   "execution_count": null,
   "metadata": {},
   "outputs": [],
   "source": []
  }
 ],
 "metadata": {
  "kernelspec": {
   "display_name": "Python 3",
   "language": "python",
   "name": "python3"
  },
  "language_info": {
   "codemirror_mode": {
    "name": "ipython",
    "version": 3
   },
   "file_extension": ".py",
   "mimetype": "text/x-python",
   "name": "python",
   "nbconvert_exporter": "python",
   "pygments_lexer": "ipython3",
   "version": "3.11.5"
  }
 },
 "nbformat": 4,
 "nbformat_minor": 2
}
